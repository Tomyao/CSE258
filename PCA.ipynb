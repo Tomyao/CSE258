{
 "cells": [
  {
   "cell_type": "code",
   "execution_count": 1,
   "metadata": {},
   "outputs": [
    {
     "name": "stdout",
     "output_type": "stream",
     "text": [
      "Reading data...\n",
      "done\n"
     ]
    }
   ],
   "source": [
    "import numpy\n",
    "import scipy.optimize\n",
    "import random\n",
    "import string\n",
    "from math import exp\n",
    "from math import log\n",
    "from sklearn.decomposition import PCA\n",
    "import matplotlib.pyplot as plt\n",
    "\n",
    "def parseData(fname):\n",
    "  for l in open(fname):\n",
    "    yield eval(l)\n",
    "\n",
    "print (\"Reading data...\")\n",
    "data = list(parseData(\"beer_50000.json\"))\n",
    "print (\"done\")"
   ]
  },
  {
   "cell_type": "code",
   "execution_count": 2,
   "metadata": {
    "collapsed": true
   },
   "outputs": [],
   "source": [
    "# Define the words\n",
    "words = [\"lactic\", \"tart\", \"sour\", \"citric\", \"sweet\", \"acid\", \"hop\", \"fruit\", \"salt\", \"spicy\"]\n",
    "\n",
    "# Getting the word counts\n",
    "def feature(datum):\n",
    "  counts = [0]*len(words)\n",
    "  mystring = datum['review/text']\n",
    "  mystring = mystring.translate(str.maketrans('','',string.punctuation))\n",
    "  mywords = mystring.split()\n",
    "  for i in range (0, len(mywords)):\n",
    "    for j in range (0, len(words)):\n",
    "      if mywords[i].lower() == words[j]:\n",
    "        counts[j] += 1\n",
    "  feat = counts\n",
    "  return feat\n",
    "\n",
    "X = [feature(d) for d in data]"
   ]
  },
  {
   "cell_type": "code",
   "execution_count": 3,
   "metadata": {
    "collapsed": true
   },
   "outputs": [],
   "source": [
    "# Problem 6\n",
    "\n",
    "# Splitting into thirds\n",
    "one_third = int(len(X)/3)\n",
    "two_third = 2*one_third\n",
    "\n",
    "X_training_set = X[:one_third]\n",
    "X_validation_set = X[one_third:two_third]\n",
    "X_test_set = X[two_third:]"
   ]
  },
  {
   "cell_type": "code",
   "execution_count": 4,
   "metadata": {},
   "outputs": [
    {
     "name": "stdout",
     "output_type": "stream",
     "text": [
      "[[ -5.99348611e-04   3.95180460e-03  -9.30313126e-03   9.77013461e-03\n",
      "    7.99743141e-01  -1.15982082e-04   5.94935746e-01   7.26421070e-02\n",
      "    1.73560182e-04   3.14239951e-02]\n",
      " [ -1.57703251e-03  -8.65486079e-03  -1.41729712e-02   1.36618507e-02\n",
      "   -5.96957130e-01   2.48551765e-04   8.01904848e-01  -3.25375266e-03\n",
      "   -1.24914732e-03   1.06619909e-02]\n",
      " [  4.00311919e-03   4.43650130e-02   9.06341269e-02   3.63555020e-03\n",
      "   -6.10090802e-02  -2.42559237e-04  -3.98261666e-02   9.91605188e-01\n",
      "    3.81500215e-04   3.46218809e-02]\n",
      " [ -4.26440126e-04   2.28634173e-02  -1.25300143e-02   1.95012054e-02\n",
      "   -1.68370978e-02  -1.59706556e-04  -2.62603663e-02  -3.68946765e-02\n",
      "    2.69012381e-03   9.98297656e-01]\n",
      " [  2.60661794e-02   2.24900160e-01   9.68807960e-01   3.42563694e-03\n",
      "    3.00250324e-03   9.49375889e-03   2.13269955e-02  -9.78249427e-02\n",
      "    7.56407137e-04   3.94909560e-03]\n",
      " [  3.22021761e-02   9.72157312e-01  -2.28841275e-01   1.09560490e-02\n",
      "   -6.07572126e-03   1.00261862e-02   2.06999697e-03  -2.21244155e-02\n",
      "    8.12056096e-03  -2.62232434e-02]\n",
      " [  7.90352064e-03  -1.23571069e-02  -8.14463189e-04   9.99534596e-01\n",
      "    9.49131814e-04   7.16124510e-03  -1.62050193e-02  -2.96988274e-03\n",
      "    5.65145131e-04  -1.97696119e-02]\n",
      " [  9.98261132e-01  -3.77021316e-02  -1.85599207e-02  -8.61671369e-03\n",
      "   -1.02075830e-04   4.01779806e-02   1.26113765e-03  -6.03114313e-04\n",
      "   -4.09164193e-03   1.25188081e-03]\n",
      " [ -4.08021246e-02  -1.02014021e-02  -6.14341646e-03  -6.95244133e-03\n",
      "    2.60043973e-04   9.99036226e-01  -3.10388286e-04   1.44156251e-03\n",
      "   -8.31621523e-03   5.06643363e-04]\n",
      " [  3.45755848e-03  -8.38730186e-03   9.82056321e-04  -7.88058439e-04\n",
      "   -7.67708510e-04   8.38147813e-03   9.63150972e-04  -3.08638533e-05\n",
      "    9.99919142e-01  -2.46061844e-03]]\n"
     ]
    }
   ],
   "source": [
    "pca = PCA(n_components=10)\n",
    "pca.fit(X_training_set)\n",
    "print (pca.components_)"
   ]
  },
  {
   "cell_type": "code",
   "execution_count": 17,
   "metadata": {},
   "outputs": [
    {
     "name": "stdout",
     "output_type": "stream",
     "text": [
      "7916.56725741\n",
      "0.475013035966\n",
      "16666\n",
      "0.0475013035966\n",
      "0.0475013035966\n"
     ]
    }
   ],
   "source": [
    "# Problem 7\n",
    "\n",
    "pca = PCA(n_components=2)\n",
    "pca.fit(X_training_set)\n",
    "\n",
    "X_orig = X_training_set\n",
    "X_hat = pca.inverse_transform(pca.transform(X_orig))\n",
    "total = 0\n",
    "for i in range (0,len(X_hat)):\n",
    "    dist = (numpy.linalg.norm(X_hat[i] - X_orig[i]))**2\n",
    "    total += dist\n",
    "print (total)\n",
    "print (total/len(X_hat))\n",
    "print (len(X_hat))\n",
    "mse = ((X_hat - X_orig)**2).mean(axis=None)\n",
    "print (mse)\n",
    "from sklearn.metrics import mean_squared_error\n",
    "mse = mean_squared_error(X_hat, X_orig)\n",
    "print (mse)"
   ]
  },
  {
   "cell_type": "code",
   "execution_count": 8,
   "metadata": {},
   "outputs": [
    {
     "name": "stdout",
     "output_type": "stream",
     "text": [
      "[[ -5.99348611e-04   3.95180460e-03  -9.30313126e-03   9.77013461e-03\n",
      "    7.99743141e-01  -1.15982082e-04   5.94935746e-01   7.26421070e-02\n",
      "    1.73560182e-04   3.14239951e-02]\n",
      " [ -1.57703251e-03  -8.65486079e-03  -1.41729712e-02   1.36618507e-02\n",
      "   -5.96957130e-01   2.48551765e-04   8.01904848e-01  -3.25375266e-03\n",
      "   -1.24914732e-03   1.06619909e-02]\n",
      " [  4.00311919e-03   4.43650130e-02   9.06341269e-02   3.63555020e-03\n",
      "   -6.10090802e-02  -2.42559237e-04  -3.98261666e-02   9.91605188e-01\n",
      "    3.81500215e-04   3.46218809e-02]\n",
      " [ -4.26440126e-04   2.28634173e-02  -1.25300143e-02   1.95012054e-02\n",
      "   -1.68370978e-02  -1.59706556e-04  -2.62603663e-02  -3.68946765e-02\n",
      "    2.69012381e-03   9.98297656e-01]\n",
      " [  2.60661794e-02   2.24900160e-01   9.68807960e-01   3.42563694e-03\n",
      "    3.00250324e-03   9.49375889e-03   2.13269955e-02  -9.78249427e-02\n",
      "    7.56407137e-04   3.94909560e-03]\n",
      " [  3.22021761e-02   9.72157312e-01  -2.28841275e-01   1.09560490e-02\n",
      "   -6.07572126e-03   1.00261862e-02   2.06999697e-03  -2.21244155e-02\n",
      "    8.12056096e-03  -2.62232434e-02]\n",
      " [  7.90352064e-03  -1.23571069e-02  -8.14463189e-04   9.99534596e-01\n",
      "    9.49131814e-04   7.16124510e-03  -1.62050193e-02  -2.96988274e-03\n",
      "    5.65145131e-04  -1.97696119e-02]\n",
      " [  9.98261132e-01  -3.77021316e-02  -1.85599207e-02  -8.61671369e-03\n",
      "   -1.02075830e-04   4.01779806e-02   1.26113765e-03  -6.03114313e-04\n",
      "   -4.09164193e-03   1.25188081e-03]\n",
      " [ -4.08021246e-02  -1.02014021e-02  -6.14341646e-03  -6.95244133e-03\n",
      "    2.60043973e-04   9.99036226e-01  -3.10388286e-04   1.44156251e-03\n",
      "   -8.31621523e-03   5.06643363e-04]\n",
      " [  3.45755848e-03  -8.38730186e-03   9.82056321e-04  -7.88058439e-04\n",
      "   -7.67708510e-04   8.38147813e-03   9.63150972e-04  -3.08638533e-05\n",
      "    9.99919142e-01  -2.46061844e-03]]\n",
      "Reconstruction error when replacing points by the mean of the corresponding coordinate:\n",
      "30776.9321373\n",
      "First transformed data point [[  2.75310737e-03  -1.18089258e-02   5.23712514e-02   2.20105370e-02\n",
      "    2.77032519e-01   1.03656166e+00   3.44993433e-03   1.95882013e+00\n",
      "   -9.18056512e-02  -1.47218491e-03]]\n",
      "Reconstruction error in the new basis:\n",
      "7916.567257409364\n"
     ]
    }
   ],
   "source": [
    "Xn = numpy.matrix(X_training_set)\n",
    "\n",
    "pca = PCA()\n",
    "pca.fit(Xn)\n",
    "\n",
    "print(pca.components_)\n",
    "\n",
    "##################################################\n",
    "# Replace points by their mean                   #\n",
    "##################################################\n",
    "\n",
    "print(\"Reconstruction error when replacing points by the mean of the corresponding coordinate:\")\n",
    "print(numpy.linalg.norm(Xn - Xn.mean(0))**2) \n",
    "\n",
    "##################################################\n",
    "# Reconstruction error with two dimensions      #\n",
    "##################################################\n",
    "\n",
    "Yn = Xn*pca.components_.T\n",
    "\n",
    "print(\"First transformed data point \" + str(Yn[0]))\n",
    "\n",
    "yVar = numpy.var(Yn,0)\n",
    "print(\"Reconstruction error in the new basis:\")\n",
    "print(len(Yn) * sum(yVar.tolist()[0][2:])) # Reconstruction error"
   ]
  },
  {
   "cell_type": "code",
   "execution_count": 7,
   "metadata": {},
   "outputs": [
    {
     "name": "stdout",
     "output_type": "stream",
     "text": [
      "Progress: 0.0\n",
      "Progress: 0.06000240009600384\n",
      "Progress: 0.12000480019200768\n",
      "Progress: 0.1800072002880115\n",
      "Progress: 0.24000960038401536\n",
      "Progress: 0.3000120004800192\n",
      "Progress: 0.360014400576023\n",
      "Progress: 0.4200168006720269\n",
      "Progress: 0.48001920076803073\n",
      "Progress: 0.5400216008640346\n",
      "Progress: 0.6000240009600384\n",
      "Progress: 0.6600264010560423\n",
      "Progress: 0.720028801152046\n",
      "Progress: 0.7800312012480499\n",
      "Progress: 0.8400336013440538\n",
      "Progress: 0.9000360014400576\n",
      "Progress: 0.9600384015360615\n"
     ]
    },
    {
     "data": {
      "image/png": "[encoded data removed]",
      "text/plain": [
       "<matplotlib.figure.Figure at 0x1a15ef8978>"
      ]
     },
     "metadata": {},
     "output_type": "display_data"
    }
   ],
   "source": [
    "# Problem 8\n",
    "\n",
    "y = [d[\"beer/style\"] == \"American IPA\" for d in data]\n",
    "\n",
    "X_new = pca.transform(X_orig)\n",
    "\n",
    "for i in range (0, len(X_new)):\n",
    "  if y[i]:\n",
    "    plt.plot(X_new[i][0], X_new[i][1], marker=\".\", color=\"red\")\n",
    "  else:\n",
    "    plt.plot(X_new[i][0], X_new[i][1], marker=\".\", color=\"blue\")\n",
    "  if i % 1000 == 0:\n",
    "    print (\"Progress: \" + str(i/len(X_new)))\n",
    "fig_size = [20,15]\n",
    "plt.rcParams[\"figure.figsize\"] = fig_size\n",
    "plt.show()"
   ]
  }
 ],
 "metadata": {
  "kernelspec": {
   "display_name": "Python 3",
   "language": "python",
   "name": "python3"
  },
  "language_info": {
   "codemirror_mode": {
    "name": "ipython",
    "version": 3
   },
   "file_extension": ".py",
   "mimetype": "text/x-python",
   "name": "python",
   "nbconvert_exporter": "python",
   "pygments_lexer": "ipython3",
   "version": "3.6.2"
  }
 },
 "nbformat": 4,
 "nbformat_minor": 2
}
