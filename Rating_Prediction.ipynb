{
  "nbformat": 4,
  "nbformat_minor": 0,
  "metadata": {
    "colab": {
      "name": "Rating Prediction.ipynb",
      "version": "0.3.2",
      "provenance": [],
      "collapsed_sections": [],
      "include_colab_link": true
    }
  },
  "cells": [
    {
      "cell_type": "markdown",
      "metadata": {
        "id": "view-in-github",
        "colab_type": "text"
      },
      "source": [
        "<a href=\"https://colab.research.google.com/github/Tomyao/CSE258/blob/master/Rating_Prediction.ipynb\" target=\"_parent\"><img src=\"https://colab.research.google.com/assets/colab-badge.svg\" alt=\"Open In Colab\"/></a>"
      ]
    },
    {
      "metadata": {
        "id": "3DX5bZCqPtUA",
        "colab_type": "code",
        "colab": {}
      },
      "cell_type": "code",
      "source": [
        "import gzip\n",
        "from collections import defaultdict\n",
        "from google.colab import files\n",
        "import numpy as np"
      ],
      "execution_count": 0,
      "outputs": []
    },
    {
      "metadata": {
        "id": "OKrd5xBlsWfE",
        "colab_type": "code",
        "colab": {}
      },
      "cell_type": "code",
      "source": [
        "class ExplicitMF():\n",
        "    def __init__(self, \n",
        "                 ratings,\n",
        "                 n_factors=40,\n",
        "                 learning='sgd',\n",
        "                 item_fact_reg=0.0, \n",
        "                 user_fact_reg=0.0,\n",
        "                 item_bias_reg=0.0,\n",
        "                 user_bias_reg=0.0,\n",
        "                 verbose=False):\n",
        "        \"\"\"\n",
        "        Train a matrix factorization model to predict empty \n",
        "        entries in a matrix. The terminology assumes a \n",
        "        ratings matrix which is ~ user x item\n",
        "        \n",
        "        Params\n",
        "        ======\n",
        "        ratings : (ndarray)\n",
        "            User x Item matrix with corresponding ratings\n",
        "        \n",
        "        n_factors : (int)\n",
        "            Number of latent factors to use in matrix \n",
        "            factorization model\n",
        "        learning : (str)\n",
        "            Method of optimization. Options include \n",
        "            'sgd' or 'als'.\n",
        "        \n",
        "        item_fact_reg : (float)\n",
        "            Regularization term for item latent factors\n",
        "        \n",
        "        user_fact_reg : (float)\n",
        "            Regularization term for user latent factors\n",
        "            \n",
        "        item_bias_reg : (float)\n",
        "            Regularization term for item biases\n",
        "        \n",
        "        user_bias_reg : (float)\n",
        "            Regularization term for user biases\n",
        "        \n",
        "        verbose : (bool)\n",
        "            Whether or not to printout training progress\n",
        "        \"\"\"\n",
        "        \n",
        "        self.ratings = ratings\n",
        "        self.n_users, self.n_items = ratings.shape\n",
        "        self.n_factors = n_factors\n",
        "        self.item_fact_reg = item_fact_reg\n",
        "        self.user_fact_reg = user_fact_reg\n",
        "        self.item_bias_reg = item_bias_reg\n",
        "        self.user_bias_reg = user_bias_reg\n",
        "        self.learning = learning\n",
        "        if self.learning == 'sgd':\n",
        "            self.sample_row, self.sample_col = self.ratings.nonzero()\n",
        "            self.n_samples = len(self.sample_row)\n",
        "        self._v = verbose\n",
        "\n",
        "    def als_step(self,\n",
        "                 latent_vectors,\n",
        "                 fixed_vecs,\n",
        "                 ratings,\n",
        "                 _lambda,\n",
        "                 type='user'):\n",
        "        \"\"\"\n",
        "        One of the two ALS steps. Solve for the latent vectors\n",
        "        specified by type.\n",
        "        \"\"\"\n",
        "        if type == 'user':\n",
        "            # Precompute\n",
        "            YTY = fixed_vecs.T.dot(fixed_vecs)\n",
        "            lambdaI = np.eye(YTY.shape[0]) * _lambda\n",
        "\n",
        "            for u in xrange(latent_vectors.shape[0]):\n",
        "                latent_vectors[u, :] = solve((YTY + lambdaI), \n",
        "                                             ratings[u, :].dot(fixed_vecs))\n",
        "        elif type == 'item':\n",
        "            # Precompute\n",
        "            XTX = fixed_vecs.T.dot(fixed_vecs)\n",
        "            lambdaI = np.eye(XTX.shape[0]) * _lambda\n",
        "            \n",
        "            for i in xrange(latent_vectors.shape[0]):\n",
        "                latent_vectors[i, :] = solve((XTX + lambdaI), \n",
        "                                             ratings[:, i].T.dot(fixed_vecs))\n",
        "        return latent_vectors\n",
        "\n",
        "    def train(self, n_iter=10, learning_rate=0.1):\n",
        "        \"\"\" Train model for n_iter iterations from scratch.\"\"\"\n",
        "        # initialize latent vectors        \n",
        "        self.user_vecs = np.random.normal(scale=1./self.n_factors,\\\n",
        "                                          size=(self.n_users, self.n_factors))\n",
        "        self.item_vecs = np.random.normal(scale=1./self.n_factors,\n",
        "                                          size=(self.n_items, self.n_factors))\n",
        "        \n",
        "        if self.learning == 'als':\n",
        "            self.partial_train(n_iter)\n",
        "        elif self.learning == 'sgd':\n",
        "            self.learning_rate = learning_rate\n",
        "            self.user_bias = np.zeros(self.n_users)\n",
        "            self.item_bias = np.zeros(self.n_items)\n",
        "            self.global_bias = np.mean(self.ratings[np.where(self.ratings != 0)])\n",
        "            self.partial_train(n_iter)\n",
        "    \n",
        "    \n",
        "    def partial_train(self, n_iter):\n",
        "        \"\"\" \n",
        "        Train model for n_iter iterations. Can be \n",
        "        called multiple times for further training.\n",
        "        \"\"\"\n",
        "        ctr = 1\n",
        "        while ctr <= n_iter:\n",
        "            if ctr % 10 == 0 and self._v:\n",
        "                print '\\tcurrent iteration: {}'.format(ctr)\n",
        "            if self.learning == 'als':\n",
        "                self.user_vecs = self.als_step(self.user_vecs, \n",
        "                                               self.item_vecs, \n",
        "                                               self.ratings, \n",
        "                                               self.user_fact_reg, \n",
        "                                               type='user')\n",
        "                self.item_vecs = self.als_step(self.item_vecs, \n",
        "                                               self.user_vecs, \n",
        "                                               self.ratings, \n",
        "                                               self.item_fact_reg, \n",
        "                                               type='item')\n",
        "            elif self.learning == 'sgd':\n",
        "                self.training_indices = np.arange(self.n_samples)\n",
        "                np.random.shuffle(self.training_indices)\n",
        "                self.sgd()\n",
        "            ctr += 1\n",
        "\n",
        "    def sgd(self):\n",
        "        for idx in self.training_indices:\n",
        "            u = self.sample_row[idx]\n",
        "            i = self.sample_col[idx]\n",
        "            prediction = self.predict(u, i)\n",
        "            e = (self.ratings[u,i] - prediction) # error\n",
        "            \n",
        "            # Update biases\n",
        "            self.user_bias[u] += self.learning_rate * \\\n",
        "                                (e - self.user_bias_reg * self.user_bias[u])\n",
        "            self.item_bias[i] += self.learning_rate * \\\n",
        "                                (e - self.item_bias_reg * self.item_bias[i])\n",
        "            \n",
        "            #Update latent factors\n",
        "            self.user_vecs[u, :] += self.learning_rate * \\\n",
        "                                    (e * self.item_vecs[i, :] - \\\n",
        "                                     self.user_fact_reg * self.user_vecs[u,:])\n",
        "            self.item_vecs[i, :] += self.learning_rate * \\\n",
        "                                    (e * self.user_vecs[u, :] - \\\n",
        "                                     self.item_fact_reg * self.item_vecs[i,:])\n",
        "    def predict(self, u, i):\n",
        "        \"\"\" Single user and item prediction.\"\"\"\n",
        "        if self.learning == 'als':\n",
        "            return self.user_vecs[u, :].dot(self.item_vecs[i, :].T)\n",
        "        elif self.learning == 'sgd':\n",
        "            prediction = self.global_bias + self.user_bias[u] + self.item_bias[i]\n",
        "            prediction += self.user_vecs[u, :].dot(self.item_vecs[i, :].T)\n",
        "            return prediction\n",
        "    \n",
        "    def predict_all(self):\n",
        "        \"\"\" Predict ratings for every user and item.\"\"\"\n",
        "        predictions = np.zeros((self.user_vecs.shape[0], \n",
        "                                self.item_vecs.shape[0]))\n",
        "        for u in xrange(self.user_vecs.shape[0]):\n",
        "            for i in xrange(self.item_vecs.shape[0]):\n",
        "                predictions[u, i] = self.predict(u, i)\n",
        "                \n",
        "        return predictions\n",
        "    \n",
        "    def calculate_learning_curve(self, iter_array, test, learning_rate=0.1):\n",
        "        \"\"\"\n",
        "        Keep track of MSE as a function of training iterations.\n",
        "        \n",
        "        Params\n",
        "        ======\n",
        "        iter_array : (list)\n",
        "            List of numbers of iterations to train for each step of \n",
        "            the learning curve. e.g. [1, 5, 10, 20]\n",
        "        test : (2D ndarray)\n",
        "            Testing dataset (assumed to be user x item).\n",
        "        \n",
        "        The function creates two new class attributes:\n",
        "        \n",
        "        train_mse : (list)\n",
        "            Training data MSE values for each value of iter_array\n",
        "        test_mse : (list)\n",
        "            Test data MSE values for each value of iter_array\n",
        "        \"\"\"\n",
        "        iter_array.sort()\n",
        "        self.train_mse =[]\n",
        "        self.test_mse = []\n",
        "        iter_diff = 0\n",
        "        for (i, n_iter) in enumerate(iter_array):\n",
        "            if self._v:\n",
        "                print 'Iteration: {}'.format(n_iter)\n",
        "            if i == 0:\n",
        "                self.train(n_iter - iter_diff, learning_rate)\n",
        "            else:\n",
        "                self.partial_train(n_iter - iter_diff)\n",
        "\n",
        "            predictions = self.predict_all()\n",
        "\n",
        "            self.train_mse += [get_mse(predictions, self.ratings)]\n",
        "            self.test_mse += [get_mse(predictions, test)]\n",
        "            if self._v:\n",
        "                print 'Train mse: ' + str(self.train_mse[-1])\n",
        "                print 'Test mse: ' + str(self.test_mse[-1])\n",
        "            iter_diff = n_iter"
      ],
      "execution_count": 0,
      "outputs": []
    },
    {
      "metadata": {
        "id": "cfC-926wP-QC",
        "colab_type": "code",
        "colab": {}
      },
      "cell_type": "code",
      "source": [
        "def readGz(f):\n",
        "  for l in gzip.open(f):\n",
        "    yield eval(l)"
      ],
      "execution_count": 0,
      "outputs": []
    },
    {
      "metadata": {
        "id": "g1m48WUhQMX2",
        "colab_type": "code",
        "outputId": "4475cd2b-6137-4129-fe38-82f039981888",
        "colab": {
          "base_uri": "https://localhost:8080/",
          "height": 69
        }
      },
      "cell_type": "code",
      "source": [
        "### Upload files\n",
        "\n",
        "uploaded = files.upload()\n",
        "\n",
        "for fn in uploaded.keys():\n",
        "  print('User uploaded file \"{name}\" with length {length} bytes'.format(\n",
        "      name=fn, length=len(uploaded[fn])))"
      ],
      "execution_count": 0,
      "outputs": [
        {
          "output_type": "display_data",
          "data": {
            "text/plain": [
              "<IPython.core.display.HTML object>"
            ],
            "text/html": [
              "\n",
              "     <input type=\"file\" id=\"files-91952165-d94b-479b-be88-6622c5e3c962\" name=\"files[]\" multiple disabled />\n",
              "     <output id=\"result-91952165-d94b-479b-be88-6622c5e3c962\">\n",
              "      Upload widget is only available when the cell has been executed in the\n",
              "      current browser session. Please rerun this cell to enable.\n",
              "      </span>"
            ]
          },
          "metadata": {
            "tags": []
          }
        },
        {
          "output_type": "display_data",
          "data": {
            "application/javascript": [
              "\n",
              "(function(scope) {\n",
              "function span(text, styleAttributes = {}) {\n",
              "  const element = document.createElement('span');\n",
              "  element.textContent = text;\n",
              "  for (const key of Object.keys(styleAttributes)) {\n",
              "    element.style[key] = styleAttributes[key];\n",
              "  }\n",
              "  return element;\n",
              "}\n",
              "\n",
              "// Max number of bytes which will be uploaded at a time.\n",
              "const MAX_PAYLOAD_SIZE = 100 * 1024;\n",
              "// Max amount of time to block waiting for the user.\n",
              "const FILE_CHANGE_TIMEOUT_MS = 30 * 1000;\n",
              "\n",
              "function uploadFiles(inputId, outputId) {\n",
              "  const steps = uploadFilesStep(inputId, outputId);\n",
              "  const outputElement = document.getElementById(outputId);\n",
              "  // Cache steps on the outputElement to make it available for the next call\n",
              "  // to uploadFilesContinue from Python.\n",
              "  outputElement.steps = steps;\n",
              "\n",
              "  return uploadFilesContinue(outputId);\n",
              "}\n",
              "\n",
              "// This is roughly an async generator (not supported in the browser yet),\n",
              "// where there are multiple asynchronous steps and the Python side is going\n",
              "// to poll for completion of each step.\n",
              "// This uses a Promise to block the python side on completion of each step,\n",
              "// then passes the result of the previous step as the input to the next step.\n",
              "function uploadFilesContinue(outputId) {\n",
              "  const outputElement = document.getElementById(outputId);\n",
              "  const steps = outputElement.steps;\n",
              "\n",
              "  const next = steps.next(outputElement.lastPromiseValue);\n",
              "  return Promise.resolve(next.value.promise).then((value) => {\n",
              "    // Cache the last promise value to make it available to the next\n",
              "    // step of the generator.\n",
              "    outputElement.lastPromiseValue = value;\n",
              "    return next.value.response;\n",
              "  });\n",
              "}\n",
              "\n",
              "/**\n",
              " * Generator function which is called between each async step of the upload\n",
              " * process.\n",
              " * @param {string} inputId Element ID of the input file picker element.\n",
              " * @param {string} outputId Element ID of the output display.\n",
              " * @return {!Iterable<!Object>} Iterable of next steps.\n",
              " */\n",
              "function* uploadFilesStep(inputId, outputId) {\n",
              "  const inputElement = document.getElementById(inputId);\n",
              "  inputElement.disabled = false;\n",
              "\n",
              "  const outputElement = document.getElementById(outputId);\n",
              "  outputElement.innerHTML = '';\n",
              "\n",
              "  const pickedPromise = new Promise((resolve) => {\n",
              "    inputElement.addEventListener('change', (e) => {\n",
              "      resolve(e.target.files);\n",
              "    });\n",
              "  });\n",
              "\n",
              "  const cancel = document.createElement('button');\n",
              "  inputElement.parentElement.appendChild(cancel);\n",
              "  cancel.textContent = 'Cancel upload';\n",
              "  const cancelPromise = new Promise((resolve) => {\n",
              "    cancel.onclick = () => {\n",
              "      resolve(null);\n",
              "    };\n",
              "  });\n",
              "\n",
              "  // Cancel upload if user hasn't picked anything in timeout.\n",
              "  const timeoutPromise = new Promise((resolve) => {\n",
              "    setTimeout(() => {\n",
              "      resolve(null);\n",
              "    }, FILE_CHANGE_TIMEOUT_MS);\n",
              "  });\n",
              "\n",
              "  // Wait for the user to pick the files.\n",
              "  const files = yield {\n",
              "    promise: Promise.race([pickedPromise, timeoutPromise, cancelPromise]),\n",
              "    response: {\n",
              "      action: 'starting',\n",
              "    }\n",
              "  };\n",
              "\n",
              "  if (!files) {\n",
              "    return {\n",
              "      response: {\n",
              "        action: 'complete',\n",
              "      }\n",
              "    };\n",
              "  }\n",
              "\n",
              "  cancel.remove();\n",
              "\n",
              "  // Disable the input element since further picks are not allowed.\n",
              "  inputElement.disabled = true;\n",
              "\n",
              "  for (const file of files) {\n",
              "    const li = document.createElement('li');\n",
              "    li.append(span(file.name, {fontWeight: 'bold'}));\n",
              "    li.append(span(\n",
              "        `(${file.type || 'n/a'}) - ${file.size} bytes, ` +\n",
              "        `last modified: ${\n",
              "                          file.lastModifiedDate ?\n",
              "                              file.lastModifiedDate.toLocaleDateString() :\n",
              "                              'n/a'\n",
              "                        } - %`));\n",
              "    const percent = span('0 done');\n",
              "    li.appendChild(percent);\n",
              "\n",
              "    outputElement.appendChild(li);\n",
              "\n",
              "    const fileDataPromise = new Promise((resolve) => {\n",
              "      const reader = new FileReader();\n",
              "      reader.onload = (e) => {\n",
              "        resolve(e.target.result);\n",
              "      };\n",
              "      reader.readAsArrayBuffer(file);\n",
              "    });\n",
              "    // Wait for the data to be ready.\n",
              "    let fileData = yield {\n",
              "      promise: fileDataPromise,\n",
              "      response: {\n",
              "        action: 'continue',\n",
              "      }\n",
              "    };\n",
              "\n",
              "    // Use a chunked sending to avoid message size limits. See b/62115660.\n",
              "    let position = 0;\n",
              "    while (position < fileData.byteLength) {\n",
              "      const length = Math.min(fileData.byteLength - position, MAX_PAYLOAD_SIZE);\n",
              "      const chunk = new Uint8Array(fileData, position, length);\n",
              "      position += length;\n",
              "\n",
              "      const base64 = btoa(String.fromCharCode.apply(null, chunk));\n",
              "      yield {\n",
              "        response: {\n",
              "          action: 'append',\n",
              "          file: file.name,\n",
              "          data: base64,\n",
              "        },\n",
              "      };\n",
              "      percent.textContent =\n",
              "          `${Math.round((position / fileData.byteLength) * 100)} done`;\n",
              "    }\n",
              "  }\n",
              "\n",
              "  // All done.\n",
              "  yield {\n",
              "    response: {\n",
              "      action: 'complete',\n",
              "    }\n",
              "  };\n",
              "}\n",
              "\n",
              "scope.google = scope.google || {};\n",
              "scope.google.colab = scope.google.colab || {};\n",
              "scope.google.colab.files = {\n",
              "  uploadFiles,\n",
              "  uploadFilesContinue,\n",
              "};\n",
              "})(self);\n"
            ],
            "text/plain": [
              "<IPython.core.display.Javascript object>"
            ]
          },
          "metadata": {
            "tags": []
          }
        },
        {
          "output_type": "stream",
          "text": [
            "User uploaded file \"pairs_Rating.txt\" with length 440029 bytes\n"
          ],
          "name": "stdout"
        }
      ]
    },
    {
      "metadata": {
        "id": "9osOggzXSlOS",
        "colab_type": "code",
        "colab": {}
      },
      "cell_type": "code",
      "source": [
        "### Save files\n",
        "\n",
        "for fn in uploaded.keys():\n",
        "  newFile = open(fn, \"wb\")\n",
        "  newFileByteArray = bytearray(uploaded[fn])\n",
        "  newFile.write(newFileByteArray)"
      ],
      "execution_count": 0,
      "outputs": []
    },
    {
      "metadata": {
        "id": "XB6U7K3QSoYq",
        "colab_type": "code",
        "outputId": "208398ba-7564-49ec-cd0a-ae86a07b4d59",
        "colab": {
          "base_uri": "https://localhost:8080/",
          "height": 85
        }
      },
      "cell_type": "code",
      "source": [
        "### Check files are in directory\n",
        "\n",
        "from os import listdir\n",
        "from os.path import isfile, join\n",
        "mypath = \"./\"\n",
        "onlyfiles = [f for f in listdir(mypath) if isfile(join(mypath, f)) and not f.startswith('.')]\n",
        "for myfiles in onlyfiles:\n",
        "  print (myfiles)"
      ],
      "execution_count": 0,
      "outputs": [
        {
          "output_type": "stream",
          "text": [
            "train.json.gz\n",
            "pairs_Visit.txt\n",
            "predictions_Visit.txt\n",
            "pairs_Rating.txt\n"
          ],
          "name": "stdout"
        }
      ]
    },
    {
      "metadata": {
        "id": "jmTFPRbEStfW",
        "colab_type": "code",
        "outputId": "c7737340-bd5c-4040-caea-91e4a5a280c6",
        "colab": {
          "base_uri": "https://localhost:8080/",
          "height": 34
        }
      },
      "cell_type": "code",
      "source": [
        "### Read in data\n",
        "\n",
        "allData = []\n",
        "\n",
        "for l in readGz(\"train.json.gz\"):\n",
        "  allData.append(l)\n",
        "  \n",
        "print len(allData)"
      ],
      "execution_count": 0,
      "outputs": [
        {
          "output_type": "stream",
          "text": [
            "200000\n"
          ],
          "name": "stdout"
        }
      ]
    },
    {
      "metadata": {
        "id": "diHj_HOgROrz",
        "colab_type": "code",
        "colab": {}
      },
      "cell_type": "code",
      "source": [
        "def build_matrix(my_samples):\n",
        "  # get unique users and assign index\n",
        "  temp1 = set(d['userID'] for d in my_samples)\n",
        "  unique_userID = {}\n",
        "  index = 0\n",
        "  for val in temp1:\n",
        "    unique_userID[val] = index\n",
        "    index += 1\n",
        "  temp2 = set(d['businessID'] for d in my_samples)\n",
        "  # get unique businesses and assign index\n",
        "  unique_businessID = {}\n",
        "  index = 0\n",
        "  for val in temp2:\n",
        "    unique_businessID[val] = index\n",
        "    index += 1\n",
        "  # init matrix\n",
        "  result = np.zeros((len(temp1),len(temp2)))\n",
        "  # populate matrix\n",
        "  for d in my_samples:\n",
        "    result[unique_userID[d['userID']]][unique_businessID[d['businessID']]] = d['rating']\n",
        "  \n",
        "  return [unique_userID, unique_businessID, result]"
      ],
      "execution_count": 0,
      "outputs": []
    },
    {
      "metadata": {
        "id": "64F7bMBMWhxZ",
        "colab_type": "code",
        "colab": {}
      },
      "cell_type": "code",
      "source": [
        "# Build sparse matrix\n",
        "[unique_userID, unique_businessID, training_matrix] = build_matrix(allData)"
      ],
      "execution_count": 0,
      "outputs": []
    },
    {
      "metadata": {
        "id": "OsZPR8j0s773",
        "colab_type": "code",
        "colab": {}
      },
      "cell_type": "code",
      "source": [
        "reg = 0.1\n",
        "MF_SGD = ExplicitMF(training_matrix, 120, learning='sgd', item_fact_reg=reg, user_fact_reg=reg, item_bias_reg=reg, user_bias_reg=reg, verbose=True)"
      ],
      "execution_count": 0,
      "outputs": []
    },
    {
      "metadata": {
        "id": "e8XqsmCduPIM",
        "colab_type": "code",
        "outputId": "09eb206b-4edc-43c8-903e-618bd1c2e58b",
        "colab": {
          "base_uri": "https://localhost:8080/",
          "height": 187
        }
      },
      "cell_type": "code",
      "source": [
        "MF_SGD.train(n_iter=200, learning_rate=0.001)"
      ],
      "execution_count": 0,
      "outputs": [
        {
          "output_type": "stream",
          "text": [
            "\tcurrent iteration: 10\n",
            "\tcurrent iteration: 20\n",
            "\tcurrent iteration: 30\n",
            "\tcurrent iteration: 40\n",
            "\tcurrent iteration: 50\n",
            "\tcurrent iteration: 60\n",
            "\tcurrent iteration: 70\n",
            "\tcurrent iteration: 80\n",
            "\tcurrent iteration: 90\n",
            "\tcurrent iteration: 100\n"
          ],
          "name": "stdout"
        }
      ]
    },
    {
      "metadata": {
        "id": "RB9jAoF-chli",
        "colab_type": "code",
        "outputId": "4c8a604f-19d8-4d67-957c-df09cb94d2d6",
        "colab": {
          "base_uri": "https://localhost:8080/",
          "height": 34
        }
      },
      "cell_type": "code",
      "source": [
        "global_average = 0.0\n",
        "total = 0.0\n",
        "for val in allData:\n",
        "  global_average += val['rating']\n",
        "  total += 1\n",
        "\n",
        "global_average = global_average/total\n",
        "print global_average"
      ],
      "execution_count": 0,
      "outputs": [
        {
          "output_type": "stream",
          "text": [
            "4.184485\n"
          ],
          "name": "stdout"
        }
      ]
    },
    {
      "metadata": {
        "id": "YYMWf9LJQWfC",
        "colab_type": "code",
        "colab": {}
      },
      "cell_type": "code",
      "source": [
        "### Calculate per-user and per-business averages\n",
        "\n",
        "user_avg = {}\n",
        "business_avg = {}\n",
        "\n",
        "for data in allData:\n",
        "  u = data['userID']\n",
        "  i = data['businessID']\n",
        "  rating = data['rating']\n",
        "  \n",
        "  if u in user_avg:\n",
        "    user_avg[u][0] += rating\n",
        "    user_avg[u][1] += 1\n",
        "  else:\n",
        "    user_avg[u] = [rating,1]\n",
        "  \n",
        "  if i in business_avg:\n",
        "    business_avg[i][0] += rating\n",
        "    business_avg[i][1] += 1\n",
        "  else:\n",
        "    business_avg[i] = [rating,1]\n",
        "\n",
        "temp1 = {}\n",
        "for data in user_avg:\n",
        "  temp1[data] = (user_avg[data][0] + 0.0)/user_avg[data][1]\n",
        "user_avg = temp1\n",
        "\n",
        "temp2 = {}\n",
        "for data in business_avg:\n",
        "  temp2[data] = (business_avg[data][0] + 0.0)/business_avg[data][1]\n",
        "business_avg = temp2"
      ],
      "execution_count": 0,
      "outputs": []
    },
    {
      "metadata": {
        "id": "XbYsTb-9cy0q",
        "colab_type": "code",
        "colab": {}
      },
      "cell_type": "code",
      "source": [
        "### Running on test data\n",
        "\n",
        "predictions = open(\"predictions_Rating.txt\", 'w')\n",
        "for l in open(\"pairs_Rating.txt\"):\n",
        "  if l.startswith(\"userID\"):\n",
        "    #header\n",
        "    predictions.write(l)\n",
        "    continue\n",
        "  u,i = l.strip().split('-')\n",
        "  if u in unique_userID and i in unique_businessID:\n",
        "    xval = unique_userID[u]\n",
        "    yval = unique_businessID[i]\n",
        "    predictedRating = MF_SGD.predict(xval,yval)\n",
        "    predictions.write(u + '-' + i + \",\" + str(predictedRating) + \"\\n\")\n",
        "  elif u in unique_userID:\n",
        "    predictions.write(u + '-' + i + \",\" + str(user_avg[u]) + \"\\n\")\n",
        "  elif i in unique_businessID:\n",
        "    predictions.write(u + '-' + i + \",\" + str(business_avg[i]) + \"\\n\")\n",
        "  else:\n",
        "    predictions.write(u + '-' + i + \",\" + str(global_average) + \"\\n\")\n",
        "\n",
        "files.download('predictions_Rating.txt')"
      ],
      "execution_count": 0,
      "outputs": []
    }
  ]
}