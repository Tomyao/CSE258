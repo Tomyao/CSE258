{
  "nbformat": 4,
  "nbformat_minor": 0,
  "metadata": {
    "colab": {
      "name": "Homework 4.ipynb",
      "version": "0.3.2",
      "provenance": [],
      "collapsed_sections": [],
      "include_colab_link": true
    }
  },
  "cells": [
    {
      "cell_type": "markdown",
      "metadata": {
        "id": "view-in-github",
        "colab_type": "text"
      },
      "source": [
        "<a href=\"https://colab.research.google.com/github/Tomyao/CSE258/blob/master/Homework_4.ipynb\" target=\"_parent\"><img src=\"https://colab.research.google.com/assets/colab-badge.svg\" alt=\"Open In Colab\"/></a>"
      ]
    },
    {
      "metadata": {
        "id": "x0VkVvn7KbeB",
        "colab_type": "code",
        "colab": {}
      },
      "cell_type": "code",
      "source": [
        "import numpy\n",
        "import urllib\n",
        "import scipy.optimize\n",
        "import random\n",
        "from collections import defaultdict\n",
        "import nltk\n",
        "import string\n",
        "from nltk.stem.porter import *\n",
        "from sklearn import linear_model\n",
        "\n",
        "def parseData(fname):\n",
        "  for l in urllib.urlopen(fname):\n",
        "    yield eval(l)"
      ],
      "execution_count": 0,
      "outputs": []
    },
    {
      "metadata": {
        "id": "aSvRsPq-MjnU",
        "colab_type": "code",
        "outputId": "573027e7-bc61-4801-f447-4505ea230ffc",
        "colab": {
          "base_uri": "https://localhost:8080/",
          "height": 51
        }
      },
      "cell_type": "code",
      "source": [
        "### Just the first 5000 reviews\n",
        "\n",
        "print \"Reading data...\"\n",
        "data = list(parseData(\"http://jmcauley.ucsd.edu/cse190/data/beer/beer_50000.json\"))[:5000]\n",
        "print \"done\""
      ],
      "execution_count": 0,
      "outputs": [
        {
          "output_type": "stream",
          "text": [
            "Reading data...\n",
            "done\n"
          ],
          "name": "stdout"
        }
      ]
    },
    {
      "metadata": {
        "id": "iIXR8tVbMx51",
        "colab_type": "code",
        "colab": {}
      },
      "cell_type": "code",
      "source": [
        "### Ignore capitalization and remove punctuation\n",
        "\n",
        "myStrings = []\n",
        "\n",
        "punctuation = set(string.punctuation)\n",
        "for d in data:\n",
        "  r = ''.join([c for c in d['review/text'].lower() if not c in punctuation])\n",
        "  temp = []\n",
        "  for w in r.split():\n",
        "    temp.append(w)\n",
        "  myStrings.append(temp)"
      ],
      "execution_count": 0,
      "outputs": []
    },
    {
      "metadata": {
        "id": "VJIBXcWcOzkR",
        "colab_type": "code",
        "colab": {}
      },
      "cell_type": "code",
      "source": [
        "### Problem 1\n",
        "\n",
        "# Get unique bigrams\n",
        "bigrams = {}\n",
        "\n",
        "for s in myStrings:\n",
        "  if len(s) >= 2:\n",
        "    index1 = 0\n",
        "    index2 = 1\n",
        "    while index2 < len(s):\n",
        "      bigram = (s[index1],s[index2])\n",
        "      if bigram not in bigrams:\n",
        "        bigrams[bigram] = 1\n",
        "      else:\n",
        "        bigrams[bigram] += 1\n",
        "      index1 += 1\n",
        "      index2 += 1"
      ],
      "execution_count": 0,
      "outputs": []
    },
    {
      "metadata": {
        "id": "be_jRZ5GQlgF",
        "colab_type": "code",
        "outputId": "c24efb28-7c9a-4992-f6ec-1a60e633fa02",
        "colab": {
          "base_uri": "https://localhost:8080/",
          "height": 119
        }
      },
      "cell_type": "code",
      "source": [
        "# Count how many unique bigrams\n",
        "print len(bigrams)\n",
        "\n",
        "# Show 5 most common bigrams\n",
        "import operator\n",
        "sorted_bigrams = sorted(bigrams.items(), key=operator.itemgetter(1))\n",
        "for i in range (len(sorted_bigrams)-5, len(sorted_bigrams)):\n",
        "  print sorted_bigrams[i]"
      ],
      "execution_count": 0,
      "outputs": [
        {
          "output_type": "stream",
          "text": [
            "182246\n",
            "(('on', 'the'), 2033)\n",
            "(('is', 'a'), 2056)\n",
            "(('of', 'the'), 2245)\n",
            "(('in', 'the'), 2595)\n",
            "(('with', 'a'), 4587)\n"
          ],
          "name": "stdout"
        }
      ]
    },
    {
      "metadata": {
        "id": "SHAlhTn5SD4E",
        "colab_type": "code",
        "colab": {}
      },
      "cell_type": "code",
      "source": [
        "### Problem 2\n",
        "\n",
        "# Get 1000 most common bigrams\n",
        "common_bigrams = []\n",
        "for i in range (len(sorted_bigrams)-1000, len(sorted_bigrams)):\n",
        "  (a,b) = sorted_bigrams[i]\n",
        "  common_bigrams.append(a)"
      ],
      "execution_count": 0,
      "outputs": []
    },
    {
      "metadata": {
        "id": "ngfgXu4qTgu_",
        "colab_type": "code",
        "colab": {}
      },
      "cell_type": "code",
      "source": [
        "# Build bigram counts for data\n",
        "\n",
        "bigram_counts = []\n",
        "for s in myStrings:\n",
        "  temp = {}\n",
        "  bigram_counts.append(temp)\n",
        "  if len(s) >= 2:\n",
        "    index1 = 0\n",
        "    index2 = 1\n",
        "    while index2 < len(s):\n",
        "      bigram = (s[index1],s[index2])\n",
        "      if bigram not in temp:\n",
        "        temp[bigram] = 1\n",
        "      else:\n",
        "        temp[bigram] += 1\n",
        "      index1 += 1\n",
        "      index2 += 1"
      ],
      "execution_count": 0,
      "outputs": []
    },
    {
      "metadata": {
        "id": "jjWDrbktVvDB",
        "colab_type": "code",
        "colab": {}
      },
      "cell_type": "code",
      "source": [
        "# Build an index into data\n",
        "index = 0\n",
        "for d in data:\n",
        "  d['index'] = index\n",
        "  index += 1"
      ],
      "execution_count": 0,
      "outputs": []
    },
    {
      "metadata": {
        "id": "rUWbLy9TVdx3",
        "colab_type": "code",
        "colab": {}
      },
      "cell_type": "code",
      "source": [
        "# Define features\n",
        "def feature(datum):\n",
        "  feat = [0]*len(common_bigrams)\n",
        "  for i in range (0, len(common_bigrams)):\n",
        "    temp1 = bigram_counts[datum['index']]\n",
        "    temp2 = common_bigrams[i]\n",
        "    if temp2 in temp1:\n",
        "      feat[i] = temp1[temp2]\n",
        "  feat.append(1) #offset\n",
        "  return feat"
      ],
      "execution_count": 0,
      "outputs": []
    },
    {
      "metadata": {
        "id": "R7flsjOYYahL",
        "colab_type": "code",
        "colab": {}
      },
      "cell_type": "code",
      "source": [
        "# Define error measure (MSE in this case)\n",
        "def error_measure(predicted, actual):\n",
        "  total_error = 0.0\n",
        "  for i in range (0, len(actual)):\n",
        "    total_error += (predicted[i] - actual[i])**2\n",
        "  return total_error / len(actual)"
      ],
      "execution_count": 0,
      "outputs": []
    },
    {
      "metadata": {
        "id": "jGSupJOYYMQW",
        "colab_type": "code",
        "outputId": "05c9d4d3-a4d3-483a-baf7-034c2aa09ef4",
        "colab": {
          "base_uri": "https://localhost:8080/",
          "height": 34
        }
      },
      "cell_type": "code",
      "source": [
        "X = [feature(d) for d in data]\n",
        "y = [d['review/overall'] for d in data]\n",
        "\n",
        "#With regularization\n",
        "clf = linear_model.Ridge(1.0, fit_intercept=False)\n",
        "clf.fit(X, y)\n",
        "predictions = clf.predict(X)\n",
        "\n",
        "print error_measure(predictions,y)"
      ],
      "execution_count": 0,
      "outputs": [
        {
          "output_type": "stream",
          "text": [
            "0.342590585298\n"
          ],
          "name": "stdout"
        }
      ]
    },
    {
      "metadata": {
        "id": "Yf0zA8D9ZcR1",
        "colab_type": "code",
        "colab": {}
      },
      "cell_type": "code",
      "source": [
        "### Problem 3\n",
        "\n",
        "# Get unique unigrams\n",
        "unigrams = {}\n",
        "\n",
        "for s in myStrings:\n",
        "    for word in s:\n",
        "      if word not in unigrams:\n",
        "        unigrams[word] = 1\n",
        "      else:\n",
        "        unigrams[word] += 1"
      ],
      "execution_count": 0,
      "outputs": []
    },
    {
      "metadata": {
        "id": "aq7yn3OacbfI",
        "colab_type": "code",
        "colab": {}
      },
      "cell_type": "code",
      "source": [
        "# Get 1000 most common unigrams/bigrams\n",
        "sorted_unigrams = sorted(unigrams.items(), key=operator.itemgetter(1))\n",
        "\n",
        "common_grams = []\n",
        "unigram_index = len(sorted_unigrams) - 1\n",
        "bigram_index = len(sorted_bigrams) - 1 \n",
        "\n",
        "while len(common_grams) < 1000:\n",
        "  (a1,b1) = sorted_unigrams[unigram_index]\n",
        "  (a2,b2) = sorted_bigrams[bigram_index]\n",
        "  if b1 >= b2:\n",
        "    common_grams.append(['unigram', a1])\n",
        "    unigram_index -= 1\n",
        "  else:\n",
        "    common_grams.append(['bigram', a2])\n",
        "    bigram_index -= 1"
      ],
      "execution_count": 0,
      "outputs": []
    },
    {
      "metadata": {
        "id": "1eZroiaBb9LQ",
        "colab_type": "code",
        "colab": {}
      },
      "cell_type": "code",
      "source": [
        "# Build unigram counts for data\n",
        "\n",
        "unigram_counts = []\n",
        "for s in myStrings:\n",
        "  temp = {}\n",
        "  unigram_counts.append(temp)\n",
        "  for word in s:\n",
        "    if word not in temp:\n",
        "      temp[word] = 1\n",
        "    else:\n",
        "      temp[word] += 1"
      ],
      "execution_count": 0,
      "outputs": []
    },
    {
      "metadata": {
        "id": "7064ptqJgmiz",
        "colab_type": "code",
        "colab": {}
      },
      "cell_type": "code",
      "source": [
        "# Define features\n",
        "def feature(datum):\n",
        "  feat = [0]*len(common_grams)\n",
        "  for i in range (0, len(common_grams)):\n",
        "    if common_grams[i][0] == 'unigram':\n",
        "      temp1 = unigram_counts[datum['index']]\n",
        "      temp2 = common_grams[i][1]\n",
        "      if temp2 in temp1:\n",
        "        feat[i] = temp1[temp2]\n",
        "    else:\n",
        "      temp1 = bigram_counts[datum['index']]\n",
        "      temp2 = common_grams[i][1]\n",
        "      if temp2 in temp1:\n",
        "        feat[i] = temp1[temp2]\n",
        "  feat.append(1) #offset\n",
        "  return feat"
      ],
      "execution_count": 0,
      "outputs": []
    },
    {
      "metadata": {
        "id": "znf1Dhogh35S",
        "colab_type": "code",
        "outputId": "3ca3abd5-5f27-4f35-def0-2b53d828c6c2",
        "colab": {
          "base_uri": "https://localhost:8080/",
          "height": 34
        }
      },
      "cell_type": "code",
      "source": [
        "X = [feature(d) for d in data]\n",
        "y = [d['review/overall'] for d in data]\n",
        "\n",
        "#With regularization\n",
        "clf = linear_model.Ridge(1.0, fit_intercept=False)\n",
        "clf.fit(X, y)\n",
        "predictions = clf.predict(X)\n",
        "\n",
        "print error_measure(predictions,y)"
      ],
      "execution_count": 0,
      "outputs": [
        {
          "output_type": "stream",
          "text": [
            "0.289047333034\n"
          ],
          "name": "stdout"
        }
      ]
    },
    {
      "metadata": {
        "id": "QYCO7cfriQMH",
        "colab_type": "code",
        "outputId": "67c4fbe6-c5ac-4f45-e658-91b5a60c1da0",
        "colab": {
          "base_uri": "https://localhost:8080/",
          "height": 374
        }
      },
      "cell_type": "code",
      "source": [
        "### Problem 4\n",
        "\n",
        "theta = clf.coef_\n",
        "\n",
        "# Add indices to theta\n",
        "temp = []\n",
        "index = 0\n",
        "for coef in theta:\n",
        "  temp.append([index,coef])\n",
        "  index += 1\n",
        "theta = temp\n",
        "\n",
        "# Sort by coefficient\n",
        "theta = sorted(theta, key=lambda x: x[1])\n",
        "  \n",
        "# Look at most positive weights\n",
        "for i in range(len(theta)-6,len(theta)-1):\n",
        "  index = theta[i][0]\n",
        "  print \"Unigram/Bigram: \" + str(common_grams[index][1])\n",
        "  print \"Coefficient: \" + str(theta[i][1])\n",
        "\n",
        "# Separate for readability\n",
        "print \"\"\n",
        "  \n",
        "# Look at most negative weights\n",
        "for i in range(0,5):\n",
        "  index = theta[i][0]\n",
        "  print \"Unigram/Bigram: \" + str(common_grams[index][1])\n",
        "  print \"Coefficient: \" + str(theta[i][1])"
      ],
      "execution_count": 0,
      "outputs": [
        {
          "output_type": "stream",
          "text": [
            "Unigram/Bigram: ('the', 'best')\n",
            "Coefficient: 0.206391095672\n",
            "Unigram/Bigram: ('not', 'bad')\n",
            "Coefficient: 0.216877216307\n",
            "Unigram/Bigram: ('of', 'these')\n",
            "Coefficient: 0.222834704241\n",
            "Unigram/Bigram: ('a', 'bad')\n",
            "Coefficient: 0.228819714269\n",
            "Unigram/Bigram: sort\n",
            "Coefficient: 0.519827801204\n",
            "\n",
            "Unigram/Bigram: ('sort', 'of')\n",
            "Coefficient: -0.639762149718\n",
            "Unigram/Bigram: water\n",
            "Coefficient: -0.27048649883\n",
            "Unigram/Bigram: corn\n",
            "Coefficient: -0.237031014604\n",
            "Unigram/Bigram: ('the', 'background')\n",
            "Coefficient: -0.216248299595\n",
            "Unigram/Bigram: straw\n",
            "Coefficient: -0.195937721779\n"
          ],
          "name": "stdout"
        }
      ]
    },
    {
      "metadata": {
        "id": "EsiQR09SmRLK",
        "colab_type": "code",
        "outputId": "6b6d86fa-097c-4a3e-bd73-86dee50d09af",
        "colab": {
          "base_uri": "https://localhost:8080/",
          "height": 102
        }
      },
      "cell_type": "code",
      "source": [
        "### Problem 5\n",
        "\n",
        "import math\n",
        "\n",
        "# Build idf scores for all unigrams\n",
        "temp = {}\n",
        "for d in unigrams:\n",
        "  temp[d] = 0.0\n",
        "\n",
        "for d in unigram_counts:\n",
        "  for u in d:\n",
        "    temp[u] += 1\n",
        "\n",
        "idf_scores = {}\n",
        "for d in temp:\n",
        "  idf_scores[d] = math.log10(len(unigram_counts) / temp[d])\n",
        "  \n",
        "# Print idf for 'foam', 'smell', 'banana', 'lactic', and 'tart'\n",
        "mywords = ['foam','smell','banana','lactic','tart']\n",
        "\n",
        "for word in mywords:\n",
        "  print (\"idf for \" + word + \": \" + str(idf_scores[word]))"
      ],
      "execution_count": 0,
      "outputs": [
        {
          "output_type": "stream",
          "text": [
            "idf for foam: 1.13786862069\n",
            "idf for smell: 0.537901618865\n",
            "idf for banana: 1.67778070527\n",
            "idf for lactic: 2.92081875395\n",
            "idf for tart: 1.80687540165\n"
          ],
          "name": "stdout"
        }
      ]
    },
    {
      "metadata": {
        "id": "YOVxafPI5lN9",
        "colab_type": "code",
        "outputId": "c89dee29-cb84-4b78-e98a-65f0dae37416",
        "colab": {
          "base_uri": "https://localhost:8080/",
          "height": 102
        }
      },
      "cell_type": "code",
      "source": [
        "# Build tf-idf scores for all data\n",
        "tf_idf = []\n",
        "for d in unigram_counts:\n",
        "  temp = {}\n",
        "  tf_idf.append(temp)\n",
        "  for u in d:\n",
        "    temp[u] = d[u]*idf_scores[u]\n",
        "    \n",
        "# Print tf-idf for 'foam', 'smell', 'banana', 'lactic', and 'tart' in first review\n",
        "for word in mywords:\n",
        "  if word in tf_idf[0]:\n",
        "    print \"tf-idf for \" + word + \": \" + str(tf_idf[0][word])\n",
        "  else:\n",
        "    print \"tf-idf for \" + word + \": 0\""
      ],
      "execution_count": 0,
      "outputs": [
        {
          "output_type": "stream",
          "text": [
            "tf-idf for foam: 2.27573724137\n",
            "tf-idf for smell: 0.537901618865\n",
            "tf-idf for banana: 3.35556141053\n",
            "tf-idf for lactic: 5.8416375079\n",
            "tf-idf for tart: 1.80687540165\n"
          ],
          "name": "stdout"
        }
      ]
    },
    {
      "metadata": {
        "id": "9pSrcwgF6ZB4",
        "colab_type": "code",
        "colab": {}
      },
      "cell_type": "code",
      "source": [
        "### Problem 6\n",
        "\n",
        "# Build index mapping for unigrams\n",
        "unigramtoindex = {}\n",
        "index = 0\n",
        "for d in unigrams:\n",
        "  unigramtoindex[d] = index\n",
        "  index += 1"
      ],
      "execution_count": 0,
      "outputs": []
    },
    {
      "metadata": {
        "id": "2ZQvLHGt9kJe",
        "colab_type": "code",
        "colab": {}
      },
      "cell_type": "code",
      "source": [
        "# Get representation for first review\n",
        "my_rep1 = [0]*len(unigrams)\n",
        "for d in tf_idf[0]:\n",
        "  my_rep1[unigramtoindex[d]] = tf_idf[0][d]\n",
        "\n",
        "# Get representation for second review\n",
        "my_rep2 = [0]*len(unigrams)\n",
        "for d in tf_idf[1]:\n",
        "  my_rep2[unigramtoindex[d]] = tf_idf[1][d]"
      ],
      "execution_count": 0,
      "outputs": []
    },
    {
      "metadata": {
        "id": "wo4RYMqu-jLp",
        "colab_type": "code",
        "outputId": "39fb8e90-d473-4c9d-a6ac-deee9f78e7ef",
        "colab": {
          "base_uri": "https://localhost:8080/",
          "height": 34
        }
      },
      "cell_type": "code",
      "source": [
        "# Calculate their cosine similarity\n",
        "\n",
        "from scipy import spatial\n",
        "\n",
        "print 1 - spatial.distance.cosine(my_rep1,my_rep2)"
      ],
      "execution_count": 0,
      "outputs": [
        {
          "output_type": "stream",
          "text": [
            "0.0658819397474\n"
          ],
          "name": "stdout"
        }
      ]
    },
    {
      "metadata": {
        "id": "HDGWNEcD-3ER",
        "colab_type": "code",
        "outputId": "ffd9fe14-dca7-474a-d5f5-60e18e057eee",
        "colab": {
          "base_uri": "https://localhost:8080/",
          "height": 71
        }
      },
      "cell_type": "code",
      "source": [
        "### Problem 7\n",
        "highest_cosine = 0\n",
        "highest_index = 0\n",
        "\n",
        "for i in range(1,len(tf_idf)):\n",
        "  temp = [0]*len(unigrams)\n",
        "  for d in tf_idf[i]:\n",
        "    temp[unigramtoindex[d]] = tf_idf[i][d]\n",
        "    \n",
        "  mycosine = 1 - spatial.distance.cosine(my_rep1,temp)\n",
        "  if mycosine > highest_cosine:\n",
        "    highest_cosine = mycosine\n",
        "    highest_index = i\n",
        "    \n",
        "print highest_cosine\n",
        "print data[highest_index]['review/text']"
      ],
      "execution_count": 0,
      "outputs": [
        {
          "output_type": "stream",
          "text": [
            "0.29686795375\n",
            "750mL bottle thanks to Chris@Slowbeer. Poured into a Lost Abbey stemmed tulip.\t\tGolden orange, close to translucent (on the first pour at least), capped by a sizable white, typically Belgian-looking head. Good lacing.\t\tQuite strong lactic notes and a sharp organic funk. Pungent stuff. Underneath is bitter citrus pith, floral spice and a hint of sweet esters. In your face with a lot going on. Only issue is the lactic character verges on turning my stomach.\t\tMore citric sourness and a bit less lactic character. Grapefruit and lemon rind are prominent, as is the Nelson Sauvin vegetative character, which kind of adheres to the yeast and barnyard funk. Tropical melons and honey provide some sweetness. Decent peppery tang.\t\tMedium, lightly syrupy body with lowish carbonation and a moderately tart, dry finish that has some length to it.\t\tIncomparable to anything I've tried. The Sauvin hops with the Saison yeast is a masterful combination, however there's no shortage of rough edges, which prevents an amazing or highly drinkable result.\n"
          ],
          "name": "stdout"
        }
      ]
    },
    {
      "metadata": {
        "id": "X4vFAWOGCB6f",
        "colab_type": "code",
        "colab": {}
      },
      "cell_type": "code",
      "source": [
        "### Problem 8\n",
        "\n",
        "# Get 1000 most common unigrams\n",
        "common_unigrams = []\n",
        "for i in range (len(sorted_unigrams)-1000, len(sorted_unigrams)):\n",
        "  (a,b) = sorted_unigrams[i]\n",
        "  common_unigrams.append(a)\n",
        "  \n",
        "# Create mapping from 1000 most common unigrams to index\n",
        "commonunitoindex = {}\n",
        "index = 0\n",
        "for d in common_unigrams:\n",
        "  commonunitoindex[d] = index\n",
        "  index += 1"
      ],
      "execution_count": 0,
      "outputs": []
    },
    {
      "metadata": {
        "id": "ClYweWx0Dirh",
        "colab_type": "code",
        "colab": {}
      },
      "cell_type": "code",
      "source": [
        "# Define features\n",
        "def feature(datum):\n",
        "  feat = [0]*len(common_unigrams)\n",
        "  \n",
        "  for d in tf_idf[datum['index']]:\n",
        "    if d in common_unigrams:\n",
        "      feat[commonunitoindex[d]] = tf_idf[datum['index']][d]\n",
        "  \n",
        "  feat.append(1) #offset\n",
        "  return feat"
      ],
      "execution_count": 0,
      "outputs": []
    },
    {
      "metadata": {
        "id": "lsXzTmuqCoiT",
        "colab_type": "code",
        "outputId": "52434e33-c7ea-453c-cf44-f8159e53bf1b",
        "colab": {
          "base_uri": "https://localhost:8080/",
          "height": 34
        }
      },
      "cell_type": "code",
      "source": [
        "X = [feature(d) for d in data]\n",
        "y = [d['review/overall'] for d in data]\n",
        "\n",
        "#With regularization\n",
        "clf = linear_model.Ridge(1.0, fit_intercept=False)\n",
        "clf.fit(X, y)\n",
        "predictions = clf.predict(X)\n",
        "\n",
        "print error_measure(predictions,y)"
      ],
      "execution_count": 0,
      "outputs": [
        {
          "output_type": "stream",
          "text": [
            "0.278648735967\n"
          ],
          "name": "stdout"
        }
      ]
    }
  ]
}